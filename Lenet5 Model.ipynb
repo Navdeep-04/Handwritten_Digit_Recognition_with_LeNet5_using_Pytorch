{
  "nbformat": 4,
  "nbformat_minor": 0,
  "metadata": {
    "colab": {
      "provenance": []
    },
    "kernelspec": {
      "name": "python3",
      "display_name": "Python 3"
    },
    "language_info": {
      "name": "python"
    }
  },
  "cells": [
    {
      "cell_type": "code",
      "source": [
        "#import necessary libraries\n",
        "import torch\n",
        "import torchvision\n",
        "import torchvision.transforms as transforms\n",
        "import matplotlib.pyplot as plt"
      ],
      "metadata": {
        "id": "_jO-FK2h_9bB"
      },
      "execution_count": 1,
      "outputs": []
    },
    {
      "cell_type": "code",
      "source": [
        "# Step 1: Download the MNIST dataset\n",
        "torchvision.datasets.MNIST(root='./data', train=True, download=True)\n",
        "torchvision.datasets.MNIST(root='./data', train=False, download=True)\n",
        "\n",
        "# Step 2: Load the raw MNIST dataset\n",
        "trainset = torchvision.datasets.MNIST(root='./data', train=True, download=True, transform=transforms.ToTensor())\n",
        "trainloader = torch.utils.data.DataLoader(trainset, batch_size=64, shuffle=True)"
      ],
      "metadata": {
        "id": "zpKE0cMQCiLM",
        "colab": {
          "base_uri": "https://localhost:8080/"
        },
        "outputId": "5c3cd622-8946-43db-f37d-2afde34036ea"
      },
      "execution_count": 2,
      "outputs": [
        {
          "output_type": "stream",
          "name": "stdout",
          "text": [
            "Downloading http://yann.lecun.com/exdb/mnist/train-images-idx3-ubyte.gz\n",
            "Failed to download (trying next):\n",
            "HTTP Error 403: Forbidden\n",
            "\n",
            "Downloading https://ossci-datasets.s3.amazonaws.com/mnist/train-images-idx3-ubyte.gz\n",
            "Downloading https://ossci-datasets.s3.amazonaws.com/mnist/train-images-idx3-ubyte.gz to ./data/MNIST/raw/train-images-idx3-ubyte.gz\n"
          ]
        },
        {
          "output_type": "stream",
          "name": "stderr",
          "text": [
            "100%|██████████| 9.91M/9.91M [00:00<00:00, 15.9MB/s]\n"
          ]
        },
        {
          "output_type": "stream",
          "name": "stdout",
          "text": [
            "Extracting ./data/MNIST/raw/train-images-idx3-ubyte.gz to ./data/MNIST/raw\n",
            "\n",
            "Downloading http://yann.lecun.com/exdb/mnist/train-labels-idx1-ubyte.gz\n",
            "Failed to download (trying next):\n",
            "HTTP Error 403: Forbidden\n",
            "\n",
            "Downloading https://ossci-datasets.s3.amazonaws.com/mnist/train-labels-idx1-ubyte.gz\n",
            "Downloading https://ossci-datasets.s3.amazonaws.com/mnist/train-labels-idx1-ubyte.gz to ./data/MNIST/raw/train-labels-idx1-ubyte.gz\n"
          ]
        },
        {
          "output_type": "stream",
          "name": "stderr",
          "text": [
            "100%|██████████| 28.9k/28.9k [00:00<00:00, 537kB/s]\n"
          ]
        },
        {
          "output_type": "stream",
          "name": "stdout",
          "text": [
            "Extracting ./data/MNIST/raw/train-labels-idx1-ubyte.gz to ./data/MNIST/raw\n",
            "\n",
            "Downloading http://yann.lecun.com/exdb/mnist/t10k-images-idx3-ubyte.gz\n",
            "Failed to download (trying next):\n",
            "HTTP Error 403: Forbidden\n",
            "\n",
            "Downloading https://ossci-datasets.s3.amazonaws.com/mnist/t10k-images-idx3-ubyte.gz\n",
            "Downloading https://ossci-datasets.s3.amazonaws.com/mnist/t10k-images-idx3-ubyte.gz to ./data/MNIST/raw/t10k-images-idx3-ubyte.gz\n"
          ]
        },
        {
          "output_type": "stream",
          "name": "stderr",
          "text": [
            "100%|██████████| 1.65M/1.65M [00:00<00:00, 3.78MB/s]\n"
          ]
        },
        {
          "output_type": "stream",
          "name": "stdout",
          "text": [
            "Extracting ./data/MNIST/raw/t10k-images-idx3-ubyte.gz to ./data/MNIST/raw\n",
            "\n",
            "Downloading http://yann.lecun.com/exdb/mnist/t10k-labels-idx1-ubyte.gz\n",
            "Failed to download (trying next):\n",
            "HTTP Error 403: Forbidden\n",
            "\n",
            "Downloading https://ossci-datasets.s3.amazonaws.com/mnist/t10k-labels-idx1-ubyte.gz\n",
            "Downloading https://ossci-datasets.s3.amazonaws.com/mnist/t10k-labels-idx1-ubyte.gz to ./data/MNIST/raw/t10k-labels-idx1-ubyte.gz\n"
          ]
        },
        {
          "output_type": "stream",
          "name": "stderr",
          "text": [
            "100%|██████████| 4.54k/4.54k [00:00<00:00, 6.90MB/s]\n"
          ]
        },
        {
          "output_type": "stream",
          "name": "stdout",
          "text": [
            "Extracting ./data/MNIST/raw/t10k-labels-idx1-ubyte.gz to ./data/MNIST/raw\n",
            "\n"
          ]
        }
      ]
    },
    {
      "cell_type": "code",
      "source": [
        "# Visualize the datasets\n",
        "def show_images(images, labels, label_header=\"True\"):\n",
        "    figure = plt.figure(figsize=(10, 10))\n",
        "    rows, cols = 1, 4\n",
        "    for i in range(1, rows*cols+1):\n",
        "        figure.add_subplot(rows, cols, i)\n",
        "        plt.axis(False)\n",
        "        plt.title(f\"{label_header}: {labels[i-1].item()}\")\n",
        "        plt.imshow(images[i-1].permute(1, 2, 0), cmap='gray')\n",
        "\n",
        "    plt.show()\n",
        "\n",
        "# Get a batch of images and show\n",
        "images, labels = next(iter(trainloader))\n",
        "show_images(images, labels, label_header=\"Raw\")"
      ],
      "metadata": {
        "colab": {
          "base_uri": "https://localhost:8080/",
          "height": 227
        },
        "id": "WIo50iBS_9x9",
        "outputId": "0394f31a-6779-4101-a3ee-9d6229a697c2"
      },
      "execution_count": 3,
      "outputs": [
        {
          "output_type": "display_data",
          "data": {
            "text/plain": [
              "<Figure size 1000x1000 with 4 Axes>"
            ],
            "image/png": "[encoded data removed]"
          },
          "metadata": {}
        }
      ]
    },
    {
      "cell_type": "markdown",
      "source": [],
      "metadata": {
        "id": "mWPjnMrWPm8C"
      }
    },
    {
      "cell_type": "code",
      "source": [
        "# Step 3: Preprocessing Step: Normalization and Data Augmentation\n",
        "transform_train = transforms.Compose([\n",
        "    transforms.RandomRotation(10),  # Randomly rotate the image by 10 degrees\n",
        "    transforms.RandomAffine(0, translate=(0.1, 0.1)),  # Random translation\n",
        "    transforms.ToTensor(),\n",
        "    transforms.Normalize((0.5,), (0.5,))  # Normalize to range [-1, 1]\n",
        "])\n",
        "\n",
        "transform_test = transforms.Compose([\n",
        "    transforms.ToTensor(),\n",
        "    transforms.Normalize((0.5,), (0.5,))  # Normalize the same way for test set\n",
        "])"
      ],
      "metadata": {
        "id": "vRBLQe78AYkf"
      },
      "execution_count": 4,
      "outputs": []
    },
    {
      "cell_type": "markdown",
      "source": [],
      "metadata": {
        "id": "zcj4_O0YCgja"
      }
    },
    {
      "cell_type": "code",
      "source": [
        "# Step 4: Load the MNIST dataset with preprocessing applied\n",
        "trainset = torchvision.datasets.MNIST(root='./data', train=True, transform=transform_train)\n",
        "trainloader = torch.utils.data.DataLoader(trainset, batch_size=64, shuffle=True)\n",
        "\n",
        "testset = torchvision.datasets.MNIST(root='./data', train=False, transform=transform_test)\n",
        "testloader = torch.utils.data.DataLoader(testset, batch_size=64, shuffle=False)\n",
        "\n",
        "# Visualize Some Preprocessed Images\n",
        "preprocessed_images, preprocessed_labels = next(iter(trainloader))\n",
        "show_images(preprocessed_images, preprocessed_labels, label_header=\"Preprocessed\")"
      ],
      "metadata": {
        "colab": {
          "base_uri": "https://localhost:8080/",
          "height": 227
        },
        "id": "EvP-1L6s8pR4",
        "outputId": "51cf8b83-e51f-48ac-a264-ad999ac49459"
      },
      "execution_count": 5,
      "outputs": [
        {
          "output_type": "display_data",
          "data": {
            "text/plain": [
              "<Figure size 1000x1000 with 4 Axes>"
            ],
            "image/png": "[encoded data removed]"
          },
          "metadata": {}
        }
      ]
    },
    {
      "cell_type": "code",
      "source": [
        "# Mlp model\n",
        "import torch\n",
        "import torch.nn as nn\n",
        "import torch.optim as optim\n",
        "from sklearn.metrics import precision_score, recall_score, f1_score, accuracy_score"
      ],
      "metadata": {
        "id": "UrKMtie6a3u_"
      },
      "execution_count": 7,
      "outputs": []
    },
    {
      "cell_type": "code",
      "source": [
        "# Step 1: Define the MLP model\n",
        "class MLP(nn.Module):\n",
        "    def __init__(self):\n",
        "        super(MLP, self).__init__()\n",
        "        # Flatten input (28x28) to 784\n",
        "        self.flatten = nn.Flatten()\n",
        "        # Define MLP layers\n",
        "        self.fc1 = nn.Linear(28*28, 256)  # First fully connected layer\n",
        "        self.fc2 = nn.Linear(256, 128)    # Second fully connected layer\n",
        "        self.fc3 = nn.Linear(128, 64)     # Third fully connected layer\n",
        "        self.fc4 = nn.Linear(64, 10)      # Output layer (10 classes)\n",
        "        self.relu = nn.ReLU()             # ReLU activation function\n",
        "\n",
        "    def forward(self, x):\n",
        "        x = self.flatten(x)\n",
        "        x = self.relu(self.fc1(x))\n",
        "        x = self.relu(self.fc2(x))\n",
        "        x = self.relu(self.fc3(x))\n",
        "        x = self.fc4(x)  # No activation in the last layer (we'll use CrossEntropyLoss which combines softmax)\n",
        "        return x\n",
        "\n",
        "# Step 2: Initialize model, loss function, and optimizer\n",
        "model = MLP()\n",
        "criterion = nn.CrossEntropyLoss()  # Cross entropy loss combines softmax and loss calculation\n",
        "optimizer = optim.Adam(model.parameters(), lr=0.001) # Adam optimizer"
      ],
      "metadata": {
        "id": "PC4jNIEkBOTa"
      },
      "execution_count": 8,
      "outputs": []
    },
    {
      "cell_type": "code",
      "source": [
        "# Step 3: Training function\n",
        "def train(model, trainloader, criterion, optimizer, epochs=20):\n",
        "    model.train()  # Set the model to training mode\n",
        "    for epoch in range(epochs):\n",
        "        running_loss = 0.0\n",
        "        correct = 0\n",
        "        total = 0\n",
        "        for images, labels in trainloader:\n",
        "            # Zero the parameter gradients\n",
        "            optimizer.zero_grad()\n",
        "\n",
        "            # Forward pass\n",
        "            outputs = model(images)\n",
        "            loss = criterion(outputs, labels)\n",
        "\n",
        "            # Backward pass and optimization\n",
        "            loss.backward()\n",
        "            optimizer.step()\n",
        "\n",
        "            # Statistics\n",
        "            running_loss += loss.item()\n",
        "            _, predicted = torch.max(outputs.data, 1)\n",
        "            total += labels.size(0)\n",
        "            correct += (predicted == labels).sum().item()\n",
        "\n",
        "        # Print statistics\n",
        "        epoch_loss = running_loss / len(trainloader)\n",
        "        accuracy = 100 * correct / total\n",
        "        print(f\"Epoch [{epoch+1}/{epochs}], Loss: {epoch_loss:.4f}, Training Accuracy: {accuracy:.2f}%,\")"
      ],
      "metadata": {
        "id": "Cxy2QhBfbGau"
      },
      "execution_count": 9,
      "outputs": []
    },
    {
      "cell_type": "code",
      "source": [
        "# Step 4: Evaluation function\n",
        "def evaluate(model, testloader):\n",
        "    model.eval()  # Set the model to evaluation mode\n",
        "    correct = 0\n",
        "    total = 0\n",
        "    all_labels = []\n",
        "    all_preds = []\n",
        "    with torch.no_grad():  # Disable gradient calculation for inference\n",
        "        for images, labels in testloader:\n",
        "            outputs = model(images)\n",
        "            _, predicted = torch.max(outputs.data, 1)\n",
        "            total += labels.size(0)\n",
        "            correct += (predicted == labels).sum().item()\n",
        "            all_labels.extend(labels.cpu().numpy())  # Convert lists to numpy arrays\n",
        "            all_preds.extend(predicted.cpu().numpy())\n",
        "\n",
        "     # Step 5: Compute evaluation metrics\n",
        "    accuracy = accuracy_score(all_labels, all_preds) * 100\n",
        "    precision = precision_score(all_labels, all_preds, average=\"weighted\") * 100\n",
        "    recall = recall_score(all_labels, all_preds, average=\"weighted\") * 100\n",
        "    f1 = f1_score(all_labels, all_preds, average=\"weighted\") * 100\n",
        "\n",
        "    print(f\"Test Accuracy: {accuracy:.2f}%\")\n",
        "    print(f\"Precision: {precision:.2f}%\")\n",
        "    print(f\"Recall: {recall:.2f}%\")\n",
        "    print(f\"F1 Score: {f1:.2f}%\")\n"
      ],
      "metadata": {
        "id": "2sITakLIbP_E"
      },
      "execution_count": 10,
      "outputs": []
    },
    {
      "cell_type": "code",
      "source": [
        "# Step 6: Train the model\n",
        "train(model, trainloader, criterion, optimizer, epochs=20)\n",
        "\n",
        "# Step 7: Evaluate the model on the test set\n",
        "evaluate(model, testloader)\n",
        "\n",
        "# save the model weights\n",
        "model_1 = MLP()  # Create the model instance\n",
        "torch.save(model_1 ,\"mlp_mnist_weights.pth\")\n",
        "print(\"Mlp Model weights saved successfully.\")\n"
      ],
      "metadata": {
        "id": "9BkiM-dZbYdN",
        "colab": {
          "base_uri": "https://localhost:8080/"
        },
        "outputId": "1199adc0-b76b-4570-e19a-813740324a6f"
      },
      "execution_count": null,
      "outputs": [
        {
          "output_type": "stream",
          "name": "stdout",
          "text": [
            "Epoch [1/20], Loss: 0.2570, Training Accuracy: 91.98%,\n",
            "Epoch [2/20], Loss: 0.2157, Training Accuracy: 93.15%,\n",
            "Epoch [3/20], Loss: 0.1907, Training Accuracy: 93.89%,\n",
            "Epoch [4/20], Loss: 0.1749, Training Accuracy: 94.37%,\n",
            "Epoch [5/20], Loss: 0.1614, Training Accuracy: 94.88%,\n",
            "Epoch [6/20], Loss: 0.1570, Training Accuracy: 94.94%,\n",
            "Epoch [7/20], Loss: 0.1452, Training Accuracy: 95.41%,\n",
            "Epoch [8/20], Loss: 0.1430, Training Accuracy: 95.53%,\n",
            "Epoch [9/20], Loss: 0.1420, Training Accuracy: 95.50%,\n",
            "Epoch [10/20], Loss: 0.1297, Training Accuracy: 95.95%,\n",
            "Epoch [11/20], Loss: 0.1282, Training Accuracy: 95.88%,\n",
            "Epoch [12/20], Loss: 0.1219, Training Accuracy: 96.16%,\n",
            "Epoch [13/20], Loss: 0.1207, Training Accuracy: 96.16%,\n",
            "Epoch [14/20], Loss: 0.1147, Training Accuracy: 96.30%,\n",
            "Epoch [15/20], Loss: 0.1135, Training Accuracy: 96.46%,\n",
            "Epoch [16/20], Loss: 0.1135, Training Accuracy: 96.45%,\n",
            "Epoch [17/20], Loss: 0.1104, Training Accuracy: 96.53%,\n",
            "Epoch [18/20], Loss: 0.1061, Training Accuracy: 96.66%,\n",
            "Epoch [19/20], Loss: 0.1059, Training Accuracy: 96.68%,\n",
            "Epoch [20/20], Loss: 0.1042, Training Accuracy: 96.61%,\n",
            "Test Accuracy: 98.04%\n",
            "Precision: 98.05%\n",
            "Recall: 98.04%\n",
            "F1 Score: 98.04%\n",
            "Mlp Model weights saved successfully.\n"
          ]
        }
      ]
    },
    {
      "cell_type": "code",
      "source": [
        "import torch\n",
        "import torch.nn as nn\n",
        "import torch.optim as optim\n",
        "import torch.nn.functional as F\n",
        "from sklearn.metrics import accuracy_score, precision_score, recall_score, f1_score\n",
        "\n",
        "# Define the CNN model\n",
        "class CNN(nn.Module):\n",
        "    def __init__(self):\n",
        "        super(CNN, self).__init__()\n",
        "        # Convolutional layer\n",
        "        # 1 input channel (grayscale), 16 filters, kernel size 3x3, and padding of 1 to maintain size\n",
        "        self.conv1 = nn.Conv2d(1, 16, kernel_size=3, padding=1)\n",
        "        # Pooling layer to reduce spatial dimensions\n",
        "        self.pool = nn.MaxPool2d(2, 2)\n",
        "        # Fully connected layer\n",
        "        # Input size is determined by the number of filters (16) and reduced image size (14x14 after pooling)\n",
        "        self.fc1 = nn.Linear(16 * 14 * 14, 10)  # Output is 10 classes (digits 0-9)\n",
        "\n",
        "    def forward(self, x):\n",
        "        # Apply the convolutional layer followed by ReLU activation and max pooling\n",
        "        x = self.pool(F.relu(self.conv1(x)))\n",
        "        # Flatten the output of the convolutional layer to pass it into the fully connected layer\n",
        "        x = x.view(-1, 16 * 14 * 14)\n",
        "        # Apply the fully connected layer\n",
        "        x = self.fc1(x)\n",
        "        return x\n",
        "\n",
        "# Initialize the model, loss function, and optimizer\n",
        "cnn_model = CNN()\n",
        "criterion = nn.CrossEntropyLoss()  # Cross entropy for classification\n",
        "optimizer = optim.Adam(cnn_model.parameters(), lr=0.001)  # Adam optimizer\n"
      ],
      "metadata": {
        "id": "irJIYVGWnehr"
      },
      "execution_count": 11,
      "outputs": []
    },
    {
      "cell_type": "code",
      "source": [
        "# Training function\n",
        "def train_cnn(model, trainloader, criterion, optimizer, epochs=20):\n",
        "    model.train()  # Set the model to training mode\n",
        "    for epoch in range(epochs):\n",
        "        running_loss = 0.0\n",
        "        correct = 0\n",
        "        total = 0\n",
        "        for images, labels in trainloader:\n",
        "            # Zero the gradients from the previous step\n",
        "            optimizer.zero_grad()\n",
        "            # Forward pass: compute predictions\n",
        "            outputs = model(images)\n",
        "            # Compute loss\n",
        "            loss = criterion(outputs, labels)\n",
        "            # Backward pass: compute gradients\n",
        "            loss.backward()\n",
        "            # Update the model parameters\n",
        "            optimizer.step()\n",
        "\n",
        "            # Track loss and accuracy\n",
        "            running_loss += loss.item()\n",
        "            _, predicted = torch.max(outputs.data, 1)\n",
        "            total += labels.size(0)\n",
        "            correct += (predicted == labels).sum().item()\n",
        "\n",
        "        # Calculate epoch loss and accuracy\n",
        "        epoch_loss = running_loss / len(trainloader)\n",
        "        accuracy = 100 * correct / total\n",
        "        print(f\"Epoch [{epoch+1}/{epochs}], Loss: {epoch_loss:.4f}, Training Accuracy: {accuracy:.2f}%\")"
      ],
      "metadata": {
        "id": "lXh5l0Ivn2dq"
      },
      "execution_count": 12,
      "outputs": []
    },
    {
      "cell_type": "code",
      "source": [
        "# Evaluation function\n",
        "def evaluate_cnn(model, testloader):\n",
        "    model.eval()  # Set the model to evaluation mode\n",
        "    correct = 0\n",
        "    total = 0\n",
        "    all_labels = []\n",
        "    all_preds = []\n",
        "    with torch.no_grad():  # Disable gradient calculation for inference\n",
        "        for images, labels in testloader:\n",
        "            outputs = model(images)\n",
        "            _, predicted = torch.max(outputs.data, 1)\n",
        "            total += labels.size(0)\n",
        "            correct += (predicted == labels).sum().item()\n",
        "            all_labels.extend(labels.cpu().numpy())\n",
        "            all_preds.extend(predicted.cpu().numpy())\n",
        "\n",
        "    # Calculate evaluation metrics\n",
        "    accuracy = accuracy_score(all_labels, all_preds) * 100\n",
        "    precision = precision_score(all_labels, all_preds, average=\"weighted\") * 100\n",
        "    recall = recall_score(all_labels, all_preds, average=\"weighted\") * 100\n",
        "    f1 = f1_score(all_labels, all_preds, average=\"weighted\") * 100\n",
        "\n",
        "    print(f\"Test Accuracy: {accuracy:.2f}%\")\n",
        "    print(f\"Precision: {precision:.2f}%\")\n",
        "    print(f\"Recall: {recall:.2f}%\")\n",
        "    print(f\"F1 Score: {f1:.2f}%\")"
      ],
      "metadata": {
        "id": "617Edf7un8dR"
      },
      "execution_count": 13,
      "outputs": []
    },
    {
      "cell_type": "code",
      "source": [
        "# Train the CNN model\n",
        "train_cnn(cnn_model, trainloader, criterion, optimizer, epochs=20)\n",
        "\n",
        "# Evaluate the CNN model on the test set\n",
        "evaluate_cnn(cnn_model, testloader)\n",
        "\n",
        "# save the model weights\n",
        "model_2 = CNN()  # Create the model instance\n",
        "torch.save(model_2 ,\"cnn_mnist_weights.pth\")\n",
        "print(\"Cnn Model weights saved successfully.\")"
      ],
      "metadata": {
        "colab": {
          "base_uri": "https://localhost:8080/"
        },
        "id": "k8zRVNypirA6",
        "outputId": "119f2502-c164-45e3-afdf-f1a0378f3d9f"
      },
      "execution_count": null,
      "outputs": [
        {
          "output_type": "stream",
          "name": "stdout",
          "text": [
            "Epoch [1/20], Loss: 0.5278, Training Accuracy: 84.32%\n",
            "Epoch [2/20], Loss: 0.2757, Training Accuracy: 91.60%\n",
            "Epoch [3/20], Loss: 0.2459, Training Accuracy: 92.52%\n",
            "Epoch [4/20], Loss: 0.2295, Training Accuracy: 92.91%\n",
            "Epoch [5/20], Loss: 0.2183, Training Accuracy: 93.30%\n",
            "Epoch [6/20], Loss: 0.2096, Training Accuracy: 93.71%\n",
            "Epoch [7/20], Loss: 0.2002, Training Accuracy: 94.01%\n",
            "Epoch [8/20], Loss: 0.1930, Training Accuracy: 94.20%\n",
            "Epoch [9/20], Loss: 0.1882, Training Accuracy: 94.36%\n",
            "Epoch [10/20], Loss: 0.1815, Training Accuracy: 94.48%\n",
            "Epoch [11/20], Loss: 0.1784, Training Accuracy: 94.58%\n",
            "Epoch [12/20], Loss: 0.1729, Training Accuracy: 94.77%\n",
            "Epoch [13/20], Loss: 0.1694, Training Accuracy: 94.91%\n",
            "Epoch [14/20], Loss: 0.1637, Training Accuracy: 95.01%\n",
            "Epoch [15/20], Loss: 0.1611, Training Accuracy: 95.12%\n",
            "Epoch [16/20], Loss: 0.1570, Training Accuracy: 95.22%\n",
            "Epoch [17/20], Loss: 0.1554, Training Accuracy: 95.34%\n",
            "Epoch [18/20], Loss: 0.1544, Training Accuracy: 95.44%\n",
            "Epoch [19/20], Loss: 0.1536, Training Accuracy: 95.42%\n",
            "Epoch [20/20], Loss: 0.1475, Training Accuracy: 95.50%\n",
            "Test Accuracy: 98.07%\n",
            "Precision: 98.08%\n",
            "Recall: 98.07%\n",
            "F1 Score: 98.07%\n",
            "Cnn Model weights saved successfully.\n"
          ]
        }
      ]
    },
    {
      "cell_type": "code",
      "source": [
        "#import necessary libraries\n",
        "import torch\n",
        "import torch.nn as nn\n",
        "import torch.optim as optim\n",
        "import torch.nn.functional as F\n",
        "from sklearn.metrics import accuracy_score, precision_score, recall_score, f1_score"
      ],
      "metadata": {
        "id": "1iRuhgzsm5-e"
      },
      "execution_count": 14,
      "outputs": []
    },
    {
      "cell_type": "code",
      "source": [
        "class LeNet5(nn.Module):\n",
        "    def __init__(self):\n",
        "        super(LeNet5, self).__init__()\n",
        "        # Convolutional and pooling layers\n",
        "        self.conv1 = nn.Conv2d(1, 6, kernel_size=5, stride=1, padding=2)  # Input: 28x28, Output: 28x28\n",
        "        self.pool1 = nn.AvgPool2d(kernel_size=2, stride=2)  # Input: 28x28, Output: 14x14\n",
        "        self.conv2 = nn.Conv2d(6, 16, kernel_size=5, stride=1)  # Input: 14x14, Output: 10x10\n",
        "        self.pool2 = nn.AvgPool2d(kernel_size=2, stride=2)  # Input: 10x10, Output: 5x5\n",
        "\n",
        "        # Fully connected layers\n",
        "        self.fc1 = nn.Linear(16 * 5 * 5, 120)  # Flattened to 16x5x5, Output: 120\n",
        "        self.fc2 = nn.Linear(120, 84)  # Output: 84\n",
        "        self.fc3 = nn.Linear(84, 10)  # Output: 10 (for 10 digits)\n",
        "\n",
        "    def forward(self, x):\n",
        "        x = F.relu(self.conv1(x))\n",
        "        x = self.pool1(x)\n",
        "        x = F.relu(self.conv2(x))\n",
        "        x = self.pool2(x)\n",
        "        x = x.view(-1, 16 * 5 * 5)  # Flatten the tensor\n",
        "        x = F.relu(self.fc1(x))\n",
        "        x = F.relu(self.fc2(x))\n",
        "        x = self.fc3(x)  # No activation on the final layer\n",
        "        return x\n"
      ],
      "metadata": {
        "id": "dG0fqaxjnB0o"
      },
      "execution_count": 15,
      "outputs": []
    },
    {
      "cell_type": "code",
      "source": [
        "# Initialize LeNet-5 model\n",
        "model_3 = LeNet5()\n",
        "criterion = nn.CrossEntropyLoss()  # Cross entropy loss for multi-class classification\n",
        "optimizer = optim.Adam(model_3.parameters(), lr=0.001)  # Adam optimizer\n",
        "\n",
        "# Training function\n",
        "def train_lenet5(model, trainloader, criterion, optimizer, epochs=20):\n",
        "    model.train()    # Set the model to training mode\n",
        "    for epoch in range(epochs):\n",
        "        running_loss = 0.0\n",
        "        correct = 0\n",
        "        total = 0\n",
        "        for images, labels in trainloader:\n",
        "            optimizer.zero_grad()  # Zero the parameter gradients\n",
        "            outputs = model(images)  # Forward pass\n",
        "            loss = criterion(outputs, labels)\n",
        "            loss.backward()  # Backward pass and optimization\n",
        "            optimizer.step()\n",
        "            running_loss += loss.item()  # Statistics\n",
        "            _, predicted = torch.max(outputs.data, 1)\n",
        "            total += labels.size(0)\n",
        "            correct += (predicted == labels).sum().item()\n",
        "\n",
        "\n",
        "\n",
        "       # Print statistics\n",
        "        epoch_loss = running_loss / len(trainloader)\n",
        "        accuracy = 100 * correct / total\n",
        "        print(f\"Epoch [{epoch+1}/{epochs}], Loss: {epoch_loss:.4f}, Training Accuracy: {accuracy:.2f}%\")\n"
      ],
      "metadata": {
        "id": "KEeO84lPnLyq"
      },
      "execution_count": 16,
      "outputs": []
    },
    {
      "cell_type": "code",
      "source": [
        "# Evaluation function\n",
        "def evaluate_lenet5(model, testloader):\n",
        "    model.eval()  # Set the model to evaluation mode\n",
        "    correct = 0\n",
        "    total = 0\n",
        "    all_labels = []\n",
        "    all_preds = []\n",
        "    with torch.no_grad():  # Disable gradient calculation for inference\n",
        "        for images, labels in testloader:\n",
        "            outputs = model(images)\n",
        "            _, predicted = torch.max(outputs.data, 1)\n",
        "            total += labels.size(0)\n",
        "            correct += (predicted == labels).sum().item()\n",
        "            all_labels.extend(labels.cpu().numpy())  # Convert lists to numpy arrays\n",
        "            all_preds.extend(predicted.cpu().numpy())\n",
        "\n",
        "    # Compute evaluation metrics\n",
        "    accuracy = accuracy_score(all_labels, all_preds) * 100\n",
        "    precision = precision_score(all_labels, all_preds, average=\"weighted\") * 100\n",
        "    recall = recall_score(all_labels, all_preds, average=\"weighted\") * 100\n",
        "    f1 = f1_score(all_labels, all_preds, average=\"weighted\") * 100\n",
        "\n",
        "    print(f\"Test Accuracy: {accuracy:.2f}%\")\n",
        "    print(f\"Precision: {precision:.2f}%\")\n",
        "    print(f\"Recall: {recall:.2f}%\")\n",
        "    print(f\"F1 Score: {f1:.2f}%\")\n"
      ],
      "metadata": {
        "id": "ohO1mFbnnTyv"
      },
      "execution_count": 17,
      "outputs": []
    },
    {
      "cell_type": "code",
      "source": [
        "# Train the LeNet-5 model\n",
        "train_lenet5(model_3, trainloader, criterion, optimizer, epochs=20)\n",
        "\n",
        "# Evaluate the LeNet-5 model on the test set\n",
        "evaluate_lenet5(model_3, testloader)\n",
        "\n",
        "torch.save(model_3.state_dict(), \"lenet5_weights.pth\")\n",
        "print(\"Lenet5 Model weights saved successfully.\")"
      ],
      "metadata": {
        "colab": {
          "base_uri": "https://localhost:8080/"
        },
        "id": "LEu1Ro1LYp9U",
        "outputId": "1ac083df-e612-404b-b3eb-e1a557dc5779"
      },
      "execution_count": null,
      "outputs": [
        {
          "output_type": "stream",
          "name": "stdout",
          "text": [
            "Epoch [1/20], Loss: 0.0332, Training Accuracy: 98.94%\n",
            "Epoch [2/20], Loss: 0.0320, Training Accuracy: 98.97%\n",
            "Epoch [3/20], Loss: 0.0325, Training Accuracy: 98.95%\n",
            "Epoch [4/20], Loss: 0.0326, Training Accuracy: 98.93%\n",
            "Epoch [5/20], Loss: 0.0300, Training Accuracy: 99.10%\n",
            "Epoch [6/20], Loss: 0.0310, Training Accuracy: 99.02%\n",
            "Epoch [7/20], Loss: 0.0308, Training Accuracy: 99.00%\n",
            "Epoch [8/20], Loss: 0.0309, Training Accuracy: 99.04%\n",
            "Epoch [9/20], Loss: 0.0285, Training Accuracy: 99.12%\n",
            "Epoch [10/20], Loss: 0.0286, Training Accuracy: 99.11%\n",
            "Epoch [11/20], Loss: 0.0282, Training Accuracy: 99.11%\n",
            "Epoch [12/20], Loss: 0.0285, Training Accuracy: 99.10%\n",
            "Epoch [13/20], Loss: 0.0268, Training Accuracy: 99.16%\n",
            "Epoch [14/20], Loss: 0.0265, Training Accuracy: 99.13%\n",
            "Epoch [15/20], Loss: 0.0269, Training Accuracy: 99.15%\n",
            "Epoch [16/20], Loss: 0.0266, Training Accuracy: 99.15%\n",
            "Epoch [17/20], Loss: 0.0257, Training Accuracy: 99.16%\n",
            "Epoch [18/20], Loss: 0.0253, Training Accuracy: 99.21%\n",
            "Epoch [19/20], Loss: 0.0261, Training Accuracy: 99.12%\n",
            "Epoch [20/20], Loss: 0.0227, Training Accuracy: 99.28%\n",
            "Test Accuracy: 99.30%\n",
            "Precision: 99.30%\n",
            "Recall: 99.30%\n",
            "F1 Score: 99.30%\n",
            "Lenet5 Model weights saved successfully.\n"
          ]
        }
      ]
    },
    {
      "cell_type": "code",
      "source": [
        "import matplotlib.pyplot as plt\n",
        "import numpy as np\n",
        "\n",
        "def visualize_sample_image(model, testloader):\n",
        "    # Set the model to evaluation mode\n",
        "    model.eval()\n",
        "\n",
        "    # Get a single batch of data from the testloader\n",
        "    images, labels = next(iter(testloader))\n",
        "\n",
        "    # Ensure images and labels are on the CPU\n",
        "    images, labels = images.cpu(), labels.cpu()\n",
        "\n",
        "    # Get the model's prediction for the first image in the batch\n",
        "    outputs = model(images)\n",
        "    _, predicted = torch.max(outputs, 1)\n",
        "\n",
        "    # Select the first image in the batch\n",
        "    image = images[0]  # The first image in the batch\n",
        "    true_label = labels[0].item()  # Get the true label (first element in the batch)\n",
        "    pred_label = predicted[0].item()  # Get the predicted label (first element in the batch)\n",
        "\n",
        "    # Convert the image from PyTorch tensor to NumPy array for visualization\n",
        "    image = image.numpy()  # Convert to numpy array (channel, height, width)\n",
        "\n",
        "    # Handle grayscale image (LeNet input is typically grayscale, so we use the first channel)\n",
        "    image = image[0]  # We only need the first channel (grayscale image)\n",
        "\n",
        "    # Plot the image and display the true and predicted labels\n",
        "    plt.imshow(image, cmap='gray')  # Display in grayscale\n",
        "    plt.title(f\"True Label: {true_label}, Predicted: {pred_label}\")\n",
        "    plt.axis('off')  # Hide axis\n",
        "    plt.show()\n",
        "\n",
        "# Visualize a sample image\n",
        "visualize_sample_image(model_3, testloader)\n"
      ],
      "metadata": {
        "colab": {
          "base_uri": "https://localhost:8080/",
          "height": 428
        },
        "id": "JZ4GB5UWotv4",
        "outputId": "88466296-6128-48fd-948b-f4ba3896c029"
      },
      "execution_count": 35,
      "outputs": [
        {
          "output_type": "display_data",
          "data": {
            "text/plain": [
              "<Figure size 640x480 with 1 Axes>"
            ],
            "image/png": "[encoded data removed]"
          },
          "metadata": {}
        }
      ]
    }
  ]
}